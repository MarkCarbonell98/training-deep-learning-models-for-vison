{
  "nbformat": 4,
  "nbformat_minor": 0,
  "metadata": {
    "kernelspec": {
      "display_name": "Python 3",
      "language": "python",
      "name": "python3"
    },
    "language_info": {
      "codemirror_mode": {
        "name": "ipython",
        "version": 3
      },
      "file_extension": ".py",
      "mimetype": "text/x-python",
      "name": "python",
      "nbconvert_exporter": "python",
      "pygments_lexer": "ipython3",
      "version": "3.8.5"
    },
    "colab": {
      "name": "mount-gdrive-in-colab.ipynb",
      "provenance": []
    }
  },
  "cells": [
    {
      "cell_type": "markdown",
      "metadata": {
        "id": "b5SAGWYfNIkr"
      },
      "source": [
        "# Mount your google drive\n",
        "\n",
        "You can mount your google drive in colab in order to have access to permanent data storage."
      ]
    },
    {
      "cell_type": "code",
      "metadata": {
        "id": "KAlRGyaUMgNI",
        "outputId": "bb67db2b-56b5-4e42-b7e3-ef6035d5551e",
        "colab": {
          "base_uri": "https://localhost:8080/",
          "height": 35
        }
      },
      "source": [
        "import os\n",
        "# mount your google drive\n",
        "# you will need to authorize the access\n",
        "from google.colab import drive\n",
        "root = '/content/gdrive/'\n",
        "drive.mount(root)\n",
        "\n",
        "# this is the root file for your google drive\n",
        "gdrive_root = os.path.join(root, 'My Drive')"
      ],
      "execution_count": 1,
      "outputs": [
        {
          "output_type": "stream",
          "text": [
            "Mounted at /content/gdrive/\n"
          ],
          "name": "stdout"
        }
      ]
    },
    {
      "cell_type": "code",
      "metadata": {
        "id": "xnUmvGGKNFW_",
        "outputId": "3cf445d5-b946-46a3-c5b2-4a9682e07a96",
        "colab": {
          "base_uri": "https://localhost:8080/",
          "height": 55
        }
      },
      "source": [
        "# now, you can access and explore the contents of your gdrive:\n",
        "gdrive_files = os.listdir(gdrive_root)\n",
        "print(gdrive_files)"
      ],
      "execution_count": 2,
      "outputs": [
        {
          "output_type": "stream",
          "text": [
            "['Copy of CV.gdoc', 'Einkaufsabbrechnung Vangerow Nov 15 Jun 16.gsheet', 'Janelia Visit June 16.gdoc', 'presentationDavisVisit.gslides', 'To-do list.gsheet', 'cremi - cantor train   test.gsheet', \"Niko's hat.gdoc\", 'cremi_defects.gsheet', 'cremi_results.gsheet', 'cantor_comparisson.gsheet', 'Janelia Visitor Projects.gdoc', 'results_large_blocks.gsheet', 'Validation Sample D.gsheet', 'Processing Sample D.gslides', 'Student Topics.gdoc', 'Paper 13paper.pdf', 'ilastik benchmarks.gsheet', 'summary: defect handling.gslides', 'sampleD_segmentation', 'Compute Resources.gdoc', 'own work + nblast.gslides', 'Research Overview - Janelia Visit 03 17.gslides', 'Grayscale DT + WS.gslides', 'vec_images', 'mala+mc lmc', 'poster_bkp.gslides', 'cube.jpg', 'mscs', 'debeka', 'test_data.zip', 'mc_mp', 'Copy of own work + nblast.gslides', 'Einkaufsabbrechnung Vangerow Dez 16.gsheet', 'Einkaufsabbrechnung Vangerow Mai 17.gsheet', 'owt:16_05_17.gslides', 'Comparsion MALA + MC LMC.gslides', 'execution_timings.gsheet', 'bmc_submission.pdf', 'Movie List.gdoc', 'Saalfeld Group Meeting 08 28.gslides', 'prediction_A_crop.h5', 'lr_prototypes.tar.gz', 'bic_pdfs', 'Poster ICCV.gslides', 'Neurosegmentation - Past, Present and Future.gslides', 'MST Cremi.gsheet', 'DamWS - ISBI.gsheet', ' Processing SampleE.gslides', 'Inferno Neurofire - Gunpowder Differences.gsheet', 'Saalfeld Meeting 11   19.gslides', 'Skunkworks - Migration.gsheet', 'Z5 Benchmarks.gsheet', 'Processing at Scale.gsheet', 'MutexWS Rebuttal.gdoc', 'for_juan', 'Processing On Cluster.gsheet', 'Saalfeld Meeting 12   4.gslides', 'MWS Validations.gsheet', 'colab', 'Colab Notebooks', 'seg_lauritzen_fast.avi', 'last_frame.png', 'Isbi Experiments.gsheet', 'Mutex Watershed & Current Work.gslides', 'Untitled presentation (3).gslides', 'ECCV 2018.gslides', 'Trainable Segmentation Group.gslides', 'EMBL-Wireless-WindowsVista-7.pdf', 'mlcourse_examples1.zip', 'Untitled presentation (2).gslides', 'cremi_sanity.h5', 'isbi2012_train.h5', 'ML-Course stuff.gdoc', 'tiktorch.gdoc', 'Fiji-almf.tar.gz', 'Untitled presentation (1).gslides', 'Runtimes Platy Full-Seg.gsheet', 'Platyneris Whole Animal Segmentation.gslides', 'Paintera.gslides', 'Inferno.gslides', 'Platy Meeting (4).gslides', 'Berlin Connectomics MWS Abstract.gdoc', 'Paintera Issues.gdoc', 'Ilastik Issues.gslides', 'Berlin Connectomics Merges Abstract.gdoc', 'Platy Meeting (3).gslides', 'MWS Ideas.gdoc', 'Jars Retreat.gslides', 'connectome_v3.mp4', 'mmpb-cell-browsing.mov', 'Platy Meeting 03.gslides', 'example_data', 'BIC Workshop.gslides', 'Hamprecht Lab Seminar March 19.gslides', 'Platy Paper Draft Segmentation.gdoc', 'ScienceMovieNight Ideas.gdoc', 'Platy Meeting (2).gslides', 'Copy of Berlin Connectomics MWS and its objective.gslides', 'pacific_rim_presentation.gslides', 'Berlin Connectomics 2018 MWS Poster.gslides', 'EMBL Science Movie Night Presentation.gslides', 'Untitled presentation.gslides', 'Platy Meeting (1).gslides', 'computational_methods.docx', 'Science Movie Night.gslides', 'Science Movie Night.odp', 'computational_methods.gdoc', 'Platy Proofreading Timesheets.gsheet', 'Platy Meeting.gslides', '1013-decision-tree-template-for-powerpoint.pptx', 'EM-Seminar.gslides', 'FIB25 Summary.gdoc', 'sampleA.n5.zip', 'frontiers_review_comments.gdoc', 'Movie S5 segmented FIBSEM volume.mov', 'rot-trans-scale.mov', 'PlatyRegistration.gslides', 'sponge.mp4', 'Automated Segmentation for Microscopy.gslides', 'Segmentation.gslides', 'Group Retreat.gdoc', 'Predicting EDU from morphology.gslides', 'gasp-rebuttal.doc', 'MIPNet Experiments.gsheet', 'Antibodies Immuno Assay.gdoc', 'IF Im Analysis.gslides', 'CBB Unit Seminar 0319.gslides', 'platybrowser-demo.mp4', 'BIC.gslides', 'BIC Short.gslides', 'adl-course', 'Work diary.gdoc', 'zidas_06_2019.pptx', 'zidas_06_2019_short.gslides', 'ADL - Day2.gslides', 'ADL - Day1.gslides']\n"
          ],
          "name": "stdout"
        }
      ]
    },
    {
      "cell_type": "code",
      "metadata": {
        "id": "2xH65twON_rV"
      },
      "source": [
        "# make a folder to store results for this course\n",
        "res_folder = os.path.join(gdrive_root, 'dl-course')\n",
        "os.makedirs(res_folder, exist_ok=True)"
      ],
      "execution_count": 3,
      "outputs": []
    },
    {
      "cell_type": "code",
      "metadata": {
        "id": "Jpta19VLOhXZ"
      },
      "source": [
        ""
      ],
      "execution_count": null,
      "outputs": []
    }
  ]
}