{
 "cells": [
  {
   "cell_type": "code",
   "execution_count": null,
   "metadata": {},
   "outputs": [],
   "source": [
    "# MOVE THIS SOMEWHERE MORE GENERAL\n",
    "\n",
    "# connect to your google drive\n",
    "from google.colab import drive\n",
    "root = '/content/gdrive/'\n",
    "drive.mount(root)\n",
    "\n",
    "# create a permanent directory in your google drive to save the data\n",
    "cifar_root = os.path.join(root, 'My Drive/adl-course')\n",
    "os.makedirs(cifar_root, exist_ok=True)\n",
    "\n",
    "# this is tricky due to whitespaces, for cifar10 we can just store evertything locally\n",
    "!cifar2png cifar10 '/content/gdrive/My Drive/drive_ml/adl-course/cifar10'"
   ]
  }
 ],
 "metadata": {
  "kernelspec": {
   "display_name": "Python 3",
   "language": "python",
   "name": "python3"
  },
  "language_info": {
   "codemirror_mode": {
    "name": "ipython",
    "version": 3
   },
   "file_extension": ".py",
   "mimetype": "text/x-python",
   "name": "python",
   "nbconvert_exporter": "python",
   "pygments_lexer": "ipython3",
   "version": "3.8.5"
  }
 },
 "nbformat": 4,
 "nbformat_minor": 4
}
