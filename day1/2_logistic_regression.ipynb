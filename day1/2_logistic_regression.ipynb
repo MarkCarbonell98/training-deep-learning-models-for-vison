{
 "cells": [
  {
   "cell_type": "markdown",
   "metadata": {},
   "source": [
    "<a href=\"https://colab.research.google.com/github/constantinpape/training-deep-learning-models-for-vison/blob/master/day1/2_logistic_regression.ipynb\" target=\"_parent\"><img src=\"https://colab.research.google.com/assets/colab-badge.svg\" alt=\"Open In Colab\"/></a>"
   ]
  },
  {
   "cell_type": "markdown",
   "metadata": {},
   "source": [
    "# Logistic Regression on CIFAR10\n",
    "\n",
    "Now that we have seen how to load image data for classification and wrap it into a torch dataset, we will go ahead and train \"simple\" classiification models useing torch.\n",
    "In this notebook, we will start with [logistic regression](https://en.wikipedia.org/wiki/Logistic_regression)\n",
    "that learns to classifiy the images based on the pixel values and then continue with a model trained on \"hard-coded\" convolutional features."
   ]
  },
  {
   "cell_type": "code",
   "execution_count": 1,
   "metadata": {},
   "outputs": [],
   "source": [
    "# load tensorboard extension\n",
    "%load_ext tensorboard"
   ]
  },
  {
   "cell_type": "code",
   "execution_count": 2,
   "metadata": {},
   "outputs": [],
   "source": [
    "# import torch and other libraries\n",
    "import os\n",
    "import numpy as np\n",
    "import torch\n",
    "import torch.nn as nn\n",
    "import sklearn.metrics as metrics"
   ]
  },
  {
   "cell_type": "code",
   "execution_count": 3,
   "metadata": {},
   "outputs": [
    {
     "name": "stdout",
     "output_type": "stream",
     "text": [
      "GPU is not available, training will run on the CPU\n"
     ]
    }
   ],
   "source": [
    "# check if we have gpu support.\n",
    "# colab offers free gpus, however they are not activated by default.\n",
    "# to activate the gpu, go to 'Runtime->Change runtime type'. \n",
    "# Then select 'GPU' in 'Hardware accelerator' and click 'Save'\n",
    "have_gpu = torch.cuda.is_available()\n",
    "# we need to define the device for torch, yadda yadda\n",
    "if have_gpu:\n",
    "    print(\"GPU is available\")\n",
    "    device = torch.device('cuda')\n",
    "else:\n",
    "    print(\"GPU is not available, training will run on the CPU\")\n",
    "    device = torch.device('cpu')"
   ]
  },
  {
   "cell_type": "code",
   "execution_count": null,
   "metadata": {},
   "outputs": [],
   "source": [
    "# run this in google colab to get the utils.py file\n",
    "!wget https://raw.githubusercontent.com/constantinpape/training-deep-learning-models-for-vison/master/day1/utils.py "
   ]
  },
  {
   "cell_type": "code",
   "execution_count": 4,
   "metadata": {},
   "outputs": [],
   "source": [
    "import utils"
   ]
  },
  {
   "cell_type": "code",
   "execution_count": 27,
   "metadata": {},
   "outputs": [
    {
     "name": "stdout",
     "output_type": "stream",
     "text": [
      "output dir `cifar10` already exists. Please specify a different output path\r\n"
     ]
    }
   ],
   "source": [
    "cifar_dir = './cifar10'\n",
    "categories = os.listdir('./cifar10/train')\n",
    "categories.sort()\n",
    "!cifar2png cifar10 cifar10"
   ]
  },
  {
   "cell_type": "markdown",
   "metadata": {},
   "source": [
    "## Prepare the data\n",
    "\n",
    "We have already seen how to create a torch dataset for the cifar dataset in the previous notebook. We will repeat this here, but now split our data into training and validation data beforehand  "
   ]
  },
  {
   "cell_type": "code",
   "execution_count": 7,
   "metadata": {},
   "outputs": [
    {
     "name": "stderr",
     "output_type": "stream",
     "text": [
      "100%|██████████| 10/10 [00:17<00:00,  1.79s/it]\n"
     ]
    }
   ],
   "source": [
    "images, labels = utils.load_cifar(os.path.join(cifar_dir, 'train'))"
   ]
  },
  {
   "cell_type": "code",
   "execution_count": 8,
   "metadata": {},
   "outputs": [
    {
     "name": "stdout",
     "output_type": "stream",
     "text": [
      "Split cifar into training and validation data:\n",
      "Have 42500 training images and 7500 validation images\n"
     ]
    }
   ],
   "source": [
    "# shuffle the data, split into training and validation set\n",
    "\n",
    "# shuffle the data\n",
    "n_images = len(images)\n",
    "indices = np.arange(n_images)\n",
    "np.random.shuffle(indices)\n",
    "\n",
    "# split into training and validation data\n",
    "validation_fraction = 0.15\n",
    "split_index = int(validation_fraction * n_images)\n",
    "train_indices = indices[:-split_index]\n",
    "val_indices = indices[-split_index:]\n",
    "\n",
    "train_images, val_images = images[train_indices], images[val_indices]\n",
    "train_labels, val_labels = labels[train_indices], labels[val_indices]\n",
    "assert len(train_images) == len(train_labels)\n",
    "assert len(val_images) == len(val_labels)\n",
    "assert len(train_images) + len(val_images) == n_images\n",
    "\n",
    "print(\"Split cifar into training and validation data:\")\n",
    "print(\"Have\", len(train_images), \"training images and\", len(val_images), \"validation images\")"
   ]
  },
  {
   "cell_type": "code",
   "execution_count": 9,
   "metadata": {},
   "outputs": [],
   "source": [
    "# create the torch datasets for training and validation\n",
    "from functools import partial\n",
    "\n",
    "trafos = [utils.to_channel_first, utils.normalize, utils.to_tensor]\n",
    "trafos = partial(utils.compose, transforms=trafos)\n",
    "\n",
    "train_dataset = utils.DatasetWithTransform(train_images, train_labels,\n",
    "                                           transform=trafos)\n",
    "\n",
    "val_dataset = utils.DatasetWithTransform(val_images, val_labels,\n",
    "                                         transform=trafos)"
   ]
  },
  {
   "cell_type": "markdown",
   "metadata": {},
   "source": [
    "## Training and validation function\n",
    "\n",
    "Now write the function that runs training and validation for 1 epoch.\n",
    "Epoch: training model on the training set once.\n",
    "Important: we want to monitor the progress during the training -> tensorboard."
   ]
  },
  {
   "cell_type": "code",
   "execution_count": 18,
   "metadata": {},
   "outputs": [],
   "source": [
    "# this is the training function.\n",
    "# don't be scared by the many arguments, a lot of this is just\n",
    "# for logging, and we explain it in more detail in the\n",
    "# training procedure\n",
    "def train(model, loader, \n",
    "          loss_function, optimizer,\n",
    "          device, epoch,\n",
    "          tb_logger, log_image_interval=20):\n",
    "    \"\"\" Train model for one epoch.\n",
    "    \n",
    "    Parameters:\n",
    "    model - \n",
    "    loader - \n",
    "    loss_function - \n",
    "    optimizer - \n",
    "    device - \n",
    "    epoch -\n",
    "    tb_logger - \n",
    "    log_image_interval -\n",
    "    \"\"\"\n",
    "\n",
    "    # set model to train mode\n",
    "    model.train()\n",
    "    \n",
    "    # iterate over the training batches provided by the loader\n",
    "    n_batches = len(loader)\n",
    "    for batch_id, (x, y) in enumerate(loader):\n",
    "       \n",
    "        # send tensors to the active device\n",
    "        x.to(device), y.to(device)\n",
    "        \n",
    "        # set the gradients to zero, to start with \"clean\" gradients\n",
    "        # in this training iteration\n",
    "        optimizer.zero_grad()\n",
    "        \n",
    "        # apply the model and get our prediction\n",
    "        prediction = model(x)\n",
    "        \n",
    "        # FIXME collate in dataloader is annoying here\n",
    "        # calculate the loss (negative log likelihood loss)\n",
    "        loss_value = loss_function(prediction, y[:, 0])\n",
    "        \n",
    "        # calculate the gradients (`loss.backward()`) \n",
    "        # and apply them to the model weights (`optimizer.ste()`)\n",
    "        loss_value.backward()\n",
    "        optimizer.step()\n",
    "        \n",
    "        step = epoch * n_batches + batch_id\n",
    "        tb_logger.add_scalar(tag='train-loss', \n",
    "                             scalar_value=loss_value.item(),\n",
    "                             global_step=step)\n",
    "        # TODO add the prediction and label here\n",
    "        if log_image_interval is not None and step % log_image_interval == 0:\n",
    "            tb_logger.add_images(tag='input', \n",
    "                                 img_tensor=x.to('cpu'),\n",
    "                                 global_step=step)"
   ]
  },
  {
   "cell_type": "code",
   "execution_count": 19,
   "metadata": {},
   "outputs": [],
   "source": [
    "# yadda yadda\n",
    "def validate(model, loader, loss_function, \n",
    "             device, step, tb_logger=None):\n",
    "    \"\"\"\n",
    "    Validate the model predictions after a training epoch.\n",
    "    \n",
    "    Arguments:\n",
    "    model\n",
    "    \"\"\"\n",
    "    # \n",
    "    model.eval()\n",
    "    \n",
    "    n_batches = len(loader)\n",
    "    n_samples = len(loader.dataset)\n",
    "   \n",
    "    mean_loss = 0\n",
    "    predictions = []\n",
    "    labels = []\n",
    "    \n",
    "    with torch.no_grad():\n",
    "        for x, y in loader:\n",
    "            x.to(device), y.to(device)\n",
    "            prediction = model(x)\n",
    "            # FIXME collate in dataloader is annoying\n",
    "            mean_loss += loss_function(prediction, y[:, 0]).item()\n",
    "    \n",
    "            # compute the most likely class predictions\n",
    "            prediction = prediction.max(1, keepdim=True)[1]\n",
    "\n",
    "            # store the predictions\n",
    "            predictions.append(prediction[:, 0].numpy())\n",
    "            labels.append(y[:, 0].numpy())\n",
    "        \n",
    "    predictions = np.concatenate(predictions)\n",
    "    labels = np.concatenate(labels)\n",
    "    \n",
    "    if tb_logger is not None:\n",
    "        \n",
    "        accuracy_error = 1. - metrics.accuracy_score(labels, predictions)\n",
    "        mean_loss /= n_batches\n",
    "        \n",
    "        tb_logger.add_scalar(tag=\"validation-error\",\n",
    "                             global_step=step,\n",
    "                             scalar_value=accuracy_error)\n",
    "        tb_logger.add_scalar(tag=\"validation-loss\",\n",
    "                             global_step=step,\n",
    "                             scalar_value=mean_loss)\n",
    "\n",
    "    # return all predictions and labels for further evaluation\n",
    "    return predictions, labels"
   ]
  },
  {
   "cell_type": "markdown",
   "metadata": {},
   "source": [
    "## Model\n",
    "\n",
    "different ways to define models, inherit from `torch.nn.Module`,\n",
    "define forward pass via method `forward`, yadda yadda"
   ]
  },
  {
   "cell_type": "code",
   "execution_count": 11,
   "metadata": {},
   "outputs": [],
   "source": [
    "# define logistic regression model\n",
    "class LogisticRegressor(nn.Module):\n",
    "    def __init__(self, n_pixels, n_classes):\n",
    "        super().__init__()\n",
    "        self.n_pixels = n_pixels\n",
    "        self.n_classes = n_classes\n",
    "        self.log_reg = nn.Sequential(nn.Linear(self.n_pixels,\n",
    "                                               self.n_classes),\n",
    "                                     nn.LogSoftmax(dim=1))\n",
    "        \n",
    "    def forward(self, x):\n",
    "        # reshape the input to be 1d instead of 2d,\n",
    "        # which is required for fully connected layers\n",
    "        x = x.view(-1, self.n_pixels)\n",
    "        x = self.log_reg(x)\n",
    "        return x"
   ]
  },
  {
   "cell_type": "markdown",
   "metadata": {},
   "source": [
    "## Set up the training\n",
    "\n",
    "Now it's time to bring everything together:"
   ]
  },
  {
   "cell_type": "code",
   "execution_count": 12,
   "metadata": {},
   "outputs": [
    {
     "data": {
      "text/plain": [
       "LogisticRegressor(\n",
       "  (log_reg): Sequential(\n",
       "    (0): Linear(in_features=3072, out_features=10, bias=True)\n",
       "    (1): LogSoftmax(dim=1)\n",
       "  )\n",
       ")"
      ]
     },
     "execution_count": 12,
     "metadata": {},
     "output_type": "execute_result"
    }
   ],
   "source": [
    "n_pixels = images[0].size  # number of pixels = 3 * 32 * 32\n",
    "n_classes = 10    \n",
    "model = LogisticRegressor(n_pixels, n_classes)\n",
    "model.to(device)"
   ]
  },
  {
   "cell_type": "code",
   "execution_count": 13,
   "metadata": {},
   "outputs": [],
   "source": [
    "# create data loader\n",
    "# what is this yadda yadda\n",
    "from torch.utils.data import DataLoader\n",
    "batch_size = 2\n",
    "train_loader = DataLoader(train_dataset,\n",
    "                          batch_size=batch_size, \n",
    "                          shuffle=True)\n",
    "\n",
    "val_loader = DataLoader(val_dataset, batch_size=10)"
   ]
  },
  {
   "cell_type": "code",
   "execution_count": 14,
   "metadata": {},
   "outputs": [],
   "source": [
    "# create optimizer\n",
    "# what is this yadda yadda\n",
    "from torch.optim import Adam\n",
    "optimizer = Adam(model.parameters())"
   ]
  },
  {
   "cell_type": "code",
   "execution_count": 15,
   "metadata": {},
   "outputs": [
    {
     "data": {
      "text/plain": [
       "NLLLoss()"
      ]
     },
     "execution_count": 15,
     "metadata": {},
     "output_type": "execute_result"
    }
   ],
   "source": [
    "# create loss\n",
    "# what is this yadda yadda\n",
    "loss_function = nn.NLLLoss()\n",
    "loss_function.to(device)"
   ]
  },
  {
   "cell_type": "code",
   "execution_count": 18,
   "metadata": {},
   "outputs": [
    {
     "ename": "FileNotFoundError",
     "evalue": "[Errno 2] No such file or directory: 'runs/log_reg'",
     "output_type": "error",
     "traceback": [
      "\u001b[0;31m---------------------------------------------------------------------------\u001b[0m",
      "\u001b[0;31mFileNotFoundError\u001b[0m                         Traceback (most recent call last)",
      "\u001b[0;32m<ipython-input-18-e11078a300e1>\u001b[0m in \u001b[0;36m<module>\u001b[0;34m\u001b[0m\n\u001b[1;32m      1\u001b[0m \u001b[0;31m# clear the tensorboard logs\u001b[0m\u001b[0;34m\u001b[0m\u001b[0;34m\u001b[0m\u001b[0;34m\u001b[0m\u001b[0m\n\u001b[1;32m      2\u001b[0m \u001b[0;32mfrom\u001b[0m \u001b[0mshutil\u001b[0m \u001b[0;32mimport\u001b[0m \u001b[0mrmtree\u001b[0m\u001b[0;34m\u001b[0m\u001b[0;34m\u001b[0m\u001b[0m\n\u001b[0;32m----> 3\u001b[0;31m \u001b[0mrmtree\u001b[0m\u001b[0;34m(\u001b[0m\u001b[0;34m'runs/log_reg'\u001b[0m\u001b[0;34m)\u001b[0m\u001b[0;34m\u001b[0m\u001b[0;34m\u001b[0m\u001b[0m\n\u001b[0m",
      "\u001b[0;32m~/Work/software/conda/miniconda3/envs/adl-course/lib/python3.8/shutil.py\u001b[0m in \u001b[0;36mrmtree\u001b[0;34m(path, ignore_errors, onerror)\u001b[0m\n\u001b[1;32m    704\u001b[0m             \u001b[0morig_st\u001b[0m \u001b[0;34m=\u001b[0m \u001b[0mos\u001b[0m\u001b[0;34m.\u001b[0m\u001b[0mlstat\u001b[0m\u001b[0;34m(\u001b[0m\u001b[0mpath\u001b[0m\u001b[0;34m)\u001b[0m\u001b[0;34m\u001b[0m\u001b[0;34m\u001b[0m\u001b[0m\n\u001b[1;32m    705\u001b[0m         \u001b[0;32mexcept\u001b[0m \u001b[0mException\u001b[0m\u001b[0;34m:\u001b[0m\u001b[0;34m\u001b[0m\u001b[0;34m\u001b[0m\u001b[0m\n\u001b[0;32m--> 706\u001b[0;31m             \u001b[0monerror\u001b[0m\u001b[0;34m(\u001b[0m\u001b[0mos\u001b[0m\u001b[0;34m.\u001b[0m\u001b[0mlstat\u001b[0m\u001b[0;34m,\u001b[0m \u001b[0mpath\u001b[0m\u001b[0;34m,\u001b[0m \u001b[0msys\u001b[0m\u001b[0;34m.\u001b[0m\u001b[0mexc_info\u001b[0m\u001b[0;34m(\u001b[0m\u001b[0;34m)\u001b[0m\u001b[0;34m)\u001b[0m\u001b[0;34m\u001b[0m\u001b[0;34m\u001b[0m\u001b[0m\n\u001b[0m\u001b[1;32m    707\u001b[0m             \u001b[0;32mreturn\u001b[0m\u001b[0;34m\u001b[0m\u001b[0;34m\u001b[0m\u001b[0m\n\u001b[1;32m    708\u001b[0m         \u001b[0;32mtry\u001b[0m\u001b[0;34m:\u001b[0m\u001b[0;34m\u001b[0m\u001b[0;34m\u001b[0m\u001b[0m\n",
      "\u001b[0;32m~/Work/software/conda/miniconda3/envs/adl-course/lib/python3.8/shutil.py\u001b[0m in \u001b[0;36mrmtree\u001b[0;34m(path, ignore_errors, onerror)\u001b[0m\n\u001b[1;32m    702\u001b[0m         \u001b[0;31m# lstat()/open()/fstat() trick.\u001b[0m\u001b[0;34m\u001b[0m\u001b[0;34m\u001b[0m\u001b[0;34m\u001b[0m\u001b[0m\n\u001b[1;32m    703\u001b[0m         \u001b[0;32mtry\u001b[0m\u001b[0;34m:\u001b[0m\u001b[0;34m\u001b[0m\u001b[0;34m\u001b[0m\u001b[0m\n\u001b[0;32m--> 704\u001b[0;31m             \u001b[0morig_st\u001b[0m \u001b[0;34m=\u001b[0m \u001b[0mos\u001b[0m\u001b[0;34m.\u001b[0m\u001b[0mlstat\u001b[0m\u001b[0;34m(\u001b[0m\u001b[0mpath\u001b[0m\u001b[0;34m)\u001b[0m\u001b[0;34m\u001b[0m\u001b[0;34m\u001b[0m\u001b[0m\n\u001b[0m\u001b[1;32m    705\u001b[0m         \u001b[0;32mexcept\u001b[0m \u001b[0mException\u001b[0m\u001b[0;34m:\u001b[0m\u001b[0;34m\u001b[0m\u001b[0;34m\u001b[0m\u001b[0m\n\u001b[1;32m    706\u001b[0m             \u001b[0monerror\u001b[0m\u001b[0;34m(\u001b[0m\u001b[0mos\u001b[0m\u001b[0;34m.\u001b[0m\u001b[0mlstat\u001b[0m\u001b[0;34m,\u001b[0m \u001b[0mpath\u001b[0m\u001b[0;34m,\u001b[0m \u001b[0msys\u001b[0m\u001b[0;34m.\u001b[0m\u001b[0mexc_info\u001b[0m\u001b[0;34m(\u001b[0m\u001b[0;34m)\u001b[0m\u001b[0;34m)\u001b[0m\u001b[0;34m\u001b[0m\u001b[0;34m\u001b[0m\u001b[0m\n",
      "\u001b[0;31mFileNotFoundError\u001b[0m: [Errno 2] No such file or directory: 'runs/log_reg'"
     ]
    }
   ],
   "source": [
    "# clear the tensorboard logs\n",
    "from shutil import rmtree\n",
    "rmtree('runs/log_reg')"
   ]
  },
  {
   "cell_type": "code",
   "execution_count": 16,
   "metadata": {},
   "outputs": [
    {
     "data": {
      "text/html": [
       "\n",
       "      <iframe id=\"tensorboard-frame-f871000920dbec7\" width=\"100%\" height=\"800\" frameborder=\"0\">\n",
       "      </iframe>\n",
       "      <script>\n",
       "        (function() {\n",
       "          const frame = document.getElementById(\"tensorboard-frame-f871000920dbec7\");\n",
       "          const url = new URL(\"/\", window.location);\n",
       "          const port = 6006;\n",
       "          if (port) {\n",
       "            url.port = port;\n",
       "          }\n",
       "          frame.src = url;\n",
       "        })();\n",
       "      </script>\n",
       "    "
      ],
      "text/plain": [
       "<IPython.core.display.HTML object>"
      ]
     },
     "metadata": {},
     "output_type": "display_data"
    }
   ],
   "source": [
    "# explain tensorboard\n",
    "from torch.utils.tensorboard import SummaryWriter\n",
    "tb_logger = SummaryWriter('runs/log_reg')\n",
    "%tensorboard --logdir runs"
   ]
  },
  {
   "cell_type": "code",
   "execution_count": 20,
   "metadata": {},
   "outputs": [
    {
     "name": "stderr",
     "output_type": "stream",
     "text": [
      "100%|██████████| 4/4 [02:19<00:00, 34.93s/it]\n"
     ]
    }
   ],
   "source": [
    "from tqdm import trange\n",
    "n_epochs = 4\n",
    "for epoch in trange(n_epochs):\n",
    "    train(model, train_loader, loss_function, optimizer,\n",
    "          device, epoch, tb_logger=tb_logger)\n",
    "    step = (epoch + 1) * len(train_loader)\n",
    "    validate(model, val_loader, loss_function,\n",
    "             device, step,\n",
    "             tb_logger=tb_logger)"
   ]
  },
  {
   "cell_type": "markdown",
   "metadata": {},
   "source": [
    "## Check the model on test data\n",
    "\n",
    "TODO need to check everything on test data!\n",
    "confusion matrix"
   ]
  },
  {
   "cell_type": "code",
   "execution_count": 21,
   "metadata": {},
   "outputs": [
    {
     "name": "stderr",
     "output_type": "stream",
     "text": [
      "100%|██████████| 10/10 [00:03<00:00,  2.86it/s]\n"
     ]
    }
   ],
   "source": [
    "test_images, test_labels = utils.load_cifar(os.path.join(cifar_dir, 'test'))"
   ]
  },
  {
   "cell_type": "code",
   "execution_count": 22,
   "metadata": {},
   "outputs": [],
   "source": [
    "test_dataset = utils.DatasetWithTransform(test_images, test_labels,\n",
    "                                          transform=trafos)\n",
    "test_loader = DataLoader(test_dataset, batch_size=25)"
   ]
  },
  {
   "cell_type": "code",
   "execution_count": 29,
   "metadata": {},
   "outputs": [
    {
     "name": "stdout",
     "output_type": "stream",
     "text": [
      "Test accuracy\n",
      "0.2782\n",
      "\n",
      "Test confusion matrix\n"
     ]
    },
    {
     "data": {
      "text/plain": [
       "<sklearn.metrics._plot.confusion_matrix.ConfusionMatrixDisplay at 0x7fb8e89cf070>"
      ]
     },
     "execution_count": 29,
     "metadata": {},
     "output_type": "execute_result"
    },
    {
     "data": {
      "image/png": "[encoded data removed]",
      "text/plain": [
       "<Figure size 432x288 with 2 Axes>"
      ]
     },
     "metadata": {
      "needs_background": "light"
     },
     "output_type": "display_data"
    }
   ],
   "source": [
    "test_predictions, test_labels = validate(model, test_loader, loss_function,\n",
    "                                         device, 0, tb_logger=None)\n",
    "accuracy = metrics.accuracy_score(test_labels, test_predictions)\n",
    "print(\"Test accuracy\")\n",
    "print(accuracy)\n",
    "print()\n",
    "cmatrix = metrics.confusion_matrix(test_labels, test_predictions)\n",
    "# make it pretty\n",
    "print(\"Test confusion matrix\")\n",
    "categories_short = [category[:5] for category in categories]\n",
    "disp = metrics.ConfusionMatrixDisplay(confusion_matrix=cmatrix,\n",
    "                                      display_labels=categories_short)\n",
    "disp.plot()"
   ]
  },
  {
   "cell_type": "markdown",
   "metadata": {},
   "source": [
    "## Logistic Regression with preset filters"
   ]
  },
  {
   "cell_type": "code",
   "execution_count": 29,
   "metadata": {},
   "outputs": [],
   "source": [
    "# write this as a function that takes \n",
    "def apply_filters(image, target, filter_list, keep_image=False):    \n",
    "    filtered = [image] if keep_image else [] \n",
    "    for filter_function in filter_list:\n",
    "        filtered.append(filter_function(image))\n",
    "    data = np.concatenate(filtered, axis=-1)\n",
    "    return data, target"
   ]
  },
  {
   "cell_type": "code",
   "execution_count": 31,
   "metadata": {},
   "outputs": [],
   "source": [
    "import skimage.filters as filters\n",
    "\n",
    "# simple filter training\n",
    "filter_list = [filters.gaussian]\n",
    "blur_filter = partial(apply_filters,\n",
    "                      filter_list=filter_list,\n",
    "                      keep_image=True)\n",
    "\n",
    "trafos = [\n",
    "    blur_filter,\n",
    "    utils.normalize,\n",
    "    utils.to_channel_first,\n",
    "    utils.to_tensor\n",
    "]\n",
    "trafos = partial(utils.compose, transforms=trafos)\n",
    "\n",
    "train_dataset = utils.DatasetWithTransform(train_images, train_labels,\n",
    "                                           transform=trafos)\n",
    "\n",
    "val_dataset = utils.DatasetWithTransform(val_images, val_labels,\n",
    "                                         transform=trafos)"
   ]
  },
  {
   "cell_type": "code",
   "execution_count": 32,
   "metadata": {},
   "outputs": [],
   "source": [
    "batch_size = 4\n",
    "train_loader = DataLoader(train_dataset,\n",
    "                          batch_size=batch_size, \n",
    "                          shuffle=True)\n",
    "\n",
    "val_loader = DataLoader(val_dataset, batch_size=10)"
   ]
  },
  {
   "cell_type": "code",
   "execution_count": 34,
   "metadata": {},
   "outputs": [
    {
     "name": "stderr",
     "output_type": "stream",
     "text": [
      "  0%|          | 0/4 [00:00<?, ?it/s]<ipython-input-29-94a7f6c16c16>:5: RuntimeWarning: Images with dimensions (M, N, 3) are interpreted as 2D+RGB by default. Use `multichannel=False` to interpret as 3D image with last dimension of length 3.\n",
      "  filtered.append(filter_function(image))\n",
      "100%|██████████| 4/4 [02:29<00:00, 37.29s/it]\n"
     ]
    }
   ],
   "source": [
    "n_pixels = 6 * 32 * 32  # number channels * number pixels\n",
    "n_classes = 10    \n",
    "model = LogisticRegressor(n_pixels, n_classes)\n",
    "model.to(device)\n",
    "\n",
    "optimizer = Adam(model.parameters())\n",
    "\n",
    "tb_logger = SummaryWriter('runs/log_reg_filters1')\n",
    "\n",
    "n_epochs = 4\n",
    "for epoch in trange(n_epochs):\n",
    "    train(model, train_loader, loss_function, optimizer,\n",
    "          device, epoch, tb_logger=tb_logger, log_image_interval=None)\n",
    "    step = (epoch + 1) * len(train_loader)\n",
    "    validate(model, val_loader, loss_function, device, step,\n",
    "             tb_logger=tb_logger)"
   ]
  },
  {
   "cell_type": "markdown",
   "metadata": {},
   "source": [
    "## Tasks and Questions:\n",
    "\n",
    "Questions:\n",
    "- What accuracy do the different models reach?\n",
    "- Which accuracy do you expect by guessing?\n",
    "- Other metrics than accuracy / confusion table?\n",
    "\n",
    "Tasks:\n",
    "- Try more filters, compare the different models via tensorboard and on the test dataset.\n",
    "- Filters can be expressed as torch convolutions! Do this for torch.gaussian and train a model with this for different degrees of smoothing. How does it perform? (Give a hint!)\n",
    "- Advanced can you do it for other convolutional filters?"
   ]
  },
  {
   "cell_type": "code",
   "execution_count": null,
   "metadata": {},
   "outputs": [],
   "source": []
  }
 ],
 "metadata": {
  "kernelspec": {
   "display_name": "Python 3",
   "language": "python",
   "name": "python3.bkp"
  },
  "language_info": {
   "codemirror_mode": {
    "name": "ipython",
    "version": 3
   },
   "file_extension": ".py",
   "mimetype": "text/x-python",
   "name": "python",
   "nbconvert_exporter": "python",
   "pygments_lexer": "ipython3",
   "version": "3.8.5"
  }
 },
 "nbformat": 4,
 "nbformat_minor": 4
}
