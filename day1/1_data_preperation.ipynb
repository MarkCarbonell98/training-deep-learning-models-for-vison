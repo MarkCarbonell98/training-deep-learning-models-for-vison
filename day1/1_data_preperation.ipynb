{
 "cells": [
  {
   "cell_type": "markdown",
   "metadata": {
    "colab_type": "text",
    "id": "view-in-github"
   },
   "source": [
    "<a href=\"https://colab.research.google.com/github/constantinpape/training-deep-learning-models-for-vison/blob/master/day1/1_data_preperation.ipynb\" target=\"_parent\"><img src=\"https://colab.research.google.com/assets/colab-badge.svg\" alt=\"Open In Colab\"/></a>"
   ]
  },
  {
   "cell_type": "markdown",
   "metadata": {
    "colab_type": "text",
    "id": "3BDW5sY-dBnC"
   },
   "source": [
    "# Data preparation for a classification model\n",
    "\n",
    "In our first exercise, we will download the [CIFAR10 dataset](https://www.cs.toronto.edu/~kriz/cifar.html), which consists of 60,0000 small images (32 x 32 pixel) and 10 different classes (automobile, airplane, ...).\n",
    "\n",
    "Here, we will learn how to visualize the data and prepare it for training a classifier model.\n",
    "In addition, we will see how to connect to run the exercises in google colab. "
   ]
  },
  {
   "cell_type": "markdown",
   "metadata": {
    "colab_type": "text",
    "id": "M2QTJEh7bgal"
   },
   "source": [
    "## Import python libraries"
   ]
  },
  {
   "cell_type": "code",
   "execution_count": 3,
   "metadata": {
    "colab": {},
    "colab_type": "code",
    "id": "LnStabZOSK0O"
   },
   "outputs": [],
   "source": [
    "import os\n",
    "import numpy as np\n",
    "import matplotlib.pyplot as plt\n",
    "from imageio import imread\n",
    "from tqdm import tqdm"
   ]
  },
  {
   "cell_type": "code",
   "execution_count": 2,
   "metadata": {
    "scrolled": true
   },
   "outputs": [
    {
     "name": "stdout",
     "output_type": "stream",
     "text": [
      "Collecting cifar2png\n",
      "  Using cached cifar2png-0.0.4.tar.gz (5.8 kB)\n",
      "Requirement already satisfied: numpy in /home/pape/Work/software/conda/miniconda3/envs/adl-course/lib/python3.8/site-packages (from cifar2png) (1.19.1)\n",
      "Collecting pathlib\n",
      "  Using cached pathlib-1.0.1.tar.gz (49 kB)\n",
      "Requirement already satisfied: Pillow>=6.2.0 in /home/pape/Work/software/conda/miniconda3/envs/adl-course/lib/python3.8/site-packages (from cifar2png) (7.2.0)\n",
      "Collecting requests>=2.20.0\n",
      "  Using cached requests-2.24.0-py2.py3-none-any.whl (61 kB)\n",
      "Requirement already satisfied: six in /home/pape/Work/software/conda/miniconda3/envs/adl-course/lib/python3.8/site-packages (from cifar2png) (1.15.0)\n",
      "Collecting tqdm\n",
      "  Using cached tqdm-4.48.2-py2.py3-none-any.whl (68 kB)\n",
      "Requirement already satisfied: certifi>=2017.4.17 in /home/pape/Work/software/conda/miniconda3/envs/adl-course/lib/python3.8/site-packages (from requests>=2.20.0->cifar2png) (2020.6.20)\n",
      "Collecting chardet<4,>=3.0.2\n",
      "  Using cached chardet-3.0.4-py2.py3-none-any.whl (133 kB)\n",
      "Collecting urllib3!=1.25.0,!=1.25.1,<1.26,>=1.21.1\n",
      "  Using cached urllib3-1.25.10-py2.py3-none-any.whl (127 kB)\n",
      "Collecting idna<3,>=2.5\n",
      "  Using cached idna-2.10-py2.py3-none-any.whl (58 kB)\n",
      "Building wheels for collected packages: cifar2png, pathlib\n",
      "  Building wheel for cifar2png (setup.py) ... \u001b[?25ldone\n",
      "\u001b[?25h  Created wheel for cifar2png: filename=cifar2png-0.0.4-py3-none-any.whl size=5932 sha256=e87c0d97fb8fddad5f4cf813f8d2a15e57e7366ffa1b8d80569525d466506398\n",
      "  Stored in directory: /home/pape/.cache/pip/wheels/74/98/2e/cc61a90cf96d657a7e7384904658ae7b561514c117af9438cc\n",
      "  Building wheel for pathlib (setup.py) ... \u001b[?25ldone\n",
      "\u001b[?25h  Created wheel for pathlib: filename=pathlib-1.0.1-py3-none-any.whl size=14348 sha256=f760e5383e3ef5fcaae46c2a9744070e3905df45f7f9242274b0d5fdc1e86c41\n",
      "  Stored in directory: /home/pape/.cache/pip/wheels/59/02/2f/ff4a3e16a518feb111ae1405908094483ef56fec0dfa39e571\n",
      "Successfully built cifar2png pathlib\n",
      "Installing collected packages: pathlib, chardet, urllib3, idna, requests, tqdm, cifar2png\n",
      "Successfully installed chardet-3.0.4 cifar2png-0.0.4 idna-2.10 pathlib-1.0.1 requests-2.24.0 tqdm-4.48.2 urllib3-1.25.10\n"
     ]
    }
   ],
   "source": [
    "# install a helper function to download and extract the cifar data\n",
    "!pip install cifar2png"
   ]
  },
  {
   "cell_type": "markdown",
   "metadata": {
    "colab_type": "text",
    "id": "4K-UfXaQbvZX"
   },
   "source": [
    "## Download and read the data\n",
    "\n",
    "We download and load the images and corresponding labels to inspect them (and later use it to train a classifier).\n",
    "\n",
    "The data is organised as follows:\n",
    "\n",
    "```\n",
    "train/\n",
    "  airplane/\n",
    "    001.png\n",
    "    002.png\n",
    "    ...\n",
    "  automobile/\n",
    "    001.png\n",
    "    002.png\n",
    "    ...\n",
    "```\n",
    "\n",
    "and similarly for the test data."
   ]
  },
  {
   "cell_type": "code",
   "execution_count": 19,
   "metadata": {
    "colab": {},
    "colab_type": "code",
    "id": "xKiPEN9K3L3G"
   },
   "outputs": [
    {
     "name": "stdout",
     "output_type": "stream",
     "text": [
      "output dir `cifar10` already exists. Please specify a different output path\r\n"
     ]
    }
   ],
   "source": [
    "cifar_dir = './cifar10'\n",
    "!cifar2png cifar10 cifar10"
   ]
  },
  {
   "cell_type": "code",
   "execution_count": 20,
   "metadata": {
    "colab": {},
    "colab_type": "code",
    "id": "0MkRv0jlSQAv"
   },
   "outputs": [
    {
     "name": "stdout",
     "output_type": "stream",
     "text": [
      "['airplane', 'automobile', 'bird', 'cat', 'deer', 'dog', 'frog', 'horse', 'ship', 'truck']\n"
     ]
    }
   ],
   "source": [
    "# first, list the categories available in the data\n",
    "data_dir = os.path.join(cifar_dir, \"train\")\n",
    "categories = os.listdir(data_dir)\n",
    "categories.sort()\n",
    "print(categories)"
   ]
  },
  {
   "cell_type": "code",
   "execution_count": 21,
   "metadata": {},
   "outputs": [
    {
     "name": "stderr",
     "output_type": "stream",
     "text": [
      "100%|██████████| 10/10 [00:18<00:00,  1.85s/it]\n"
     ]
    },
    {
     "name": "stdout",
     "output_type": "stream",
     "text": [
      "Number of images: 50000\n",
      "Number of labels: 50000\n"
     ]
    }
   ],
   "source": [
    "# next load the images and labels as lists\n",
    "images = []\n",
    "labels = []\n",
    "for label_id, category in tqdm(enumerate(categories), total=len(categories)):\n",
    "    category_dir = os.path.join(data_dir, category)\n",
    "    image_names = os.listdir(category_dir)\n",
    "    for im_name in image_names:\n",
    "        im_file = os.path.join(category_dir, im_name)\n",
    "        images.append(imread(im_file))\n",
    "        labels.append(label_id)\n",
    "        \n",
    "# from lists to arrays.\n",
    "# for th images, we stack along a new first axis\n",
    "images = np.concatenate([im[None] for im in images], axis=0)\n",
    "labels = np.array(labels)\n",
    "\n",
    "print(\"Number of images:\", len(images))\n",
    "print(\"Number of labels:\", len(labels))"
   ]
  },
  {
   "cell_type": "code",
   "execution_count": 22,
   "metadata": {
    "colab": {},
    "colab_type": "code",
    "id": "qgM21lmdya9D"
   },
   "outputs": [
    {
     "data": {
      "image/png": "[encoded data removed]",
      "text/plain": [
       "<Figure size 432x288 with 10 Axes>"
      ]
     },
     "metadata": {
      "needs_background": "light"
     },
     "output_type": "display_data"
    }
   ],
   "source": [
    "# plot an image for each category\n",
    "fig, ax = plt.subplots(1, 10)\n",
    "label_list = labels.tolist()\n",
    "for label_id, category in enumerate(categories):\n",
    "    ax[label_id].imshow(images[label_list.index(label_id)])\n",
    "    # ax[label_id].set_title(category)\n",
    "plt.show()"
   ]
  },
  {
   "cell_type": "markdown",
   "metadata": {},
   "source": [
    "## Convolutional Filters\n",
    "\n",
    "TODO conv filters are important, will later need that concept a lot.\n",
    "To get started, let's just a apply a few filters to one of our images.\n",
    "You can use the library [skimage.filters](https://scikit-image.org/docs/dev/api/skimage.filters.html)."
   ]
  },
  {
   "cell_type": "code",
   "execution_count": 24,
   "metadata": {},
   "outputs": [],
   "source": [
    "import skimage.filters as filters\n",
    "image = images[0]\n",
    "filtered_gaussian = filters.gaussian(image, sigma=1., multichannel=True)\n",
    "filtered_laplacian = filters.laplace(image)"
   ]
  },
  {
   "cell_type": "code",
   "execution_count": 25,
   "metadata": {},
   "outputs": [
    {
     "name": "stderr",
     "output_type": "stream",
     "text": [
      "Clipping input data to the valid range for imshow with RGB data ([0..1] for floats or [0..255] for integers).\n"
     ]
    },
    {
     "data": {
      "text/plain": [
       "<matplotlib.image.AxesImage at 0x7f4bb4e39790>"
      ]
     },
     "execution_count": 25,
     "metadata": {},
     "output_type": "execute_result"
    },
    {
     "data": {
      "image/png": "[encoded data removed]",
      "text/plain": [
       "<Figure size 432x288 with 3 Axes>"
      ]
     },
     "metadata": {
      "needs_background": "light"
     },
     "output_type": "display_data"
    }
   ],
   "source": [
    "fig, ax = plt.subplots(1, 3)\n",
    "ax[0].imshow(image)\n",
    "ax[1].imshow(filtered_gaussian)\n",
    "ax[2].imshow(filtered_laplacian)"
   ]
  },
  {
   "cell_type": "markdown",
   "metadata": {},
   "source": [
    "## Preparation for pytorch\n",
    "\n",
    "In order to use the CIFAR data to train a classifier with pytorch, we need to bring the data into a format\n",
    "that can be ingested by pytorch. To this end, we will create:\n",
    "- a dataset: this datastructure stores the images and labels used during training\n",
    "- transforms: these are functions that are applied to the images and/or labels on the fly when the image is loaded"
   ]
  },
  {
   "cell_type": "code",
   "execution_count": 26,
   "metadata": {},
   "outputs": [],
   "source": [
    "import torch\n",
    "# datasets have to be sub-classes from torch.util.data.Dataset\n",
    "from torch.utils.data import Dataset\n",
    "\n",
    "class DatasetWithTransform(Dataset):\n",
    "    \"\"\" Our minimal dataset class. It holds data and target\n",
    "    as well as optional transforms that are applied to data and target\n",
    "    on the fly when data is requested via the [] operator.\n",
    "    \"\"\"\n",
    "    def __init__(self, data, target, transform=None):\n",
    "        assert isinstance(data, np.ndarray)\n",
    "        assert isinstance(target, np.ndarray)\n",
    "        self.data = data\n",
    "        self.target = target\n",
    "        if transform is not None:\n",
    "            assert callable(transform)\n",
    "        self.transform = transform\n",
    "\n",
    "    # exposes the [] operator of our class\n",
    "    def __getitem__(self, index):\n",
    "        data, target = self.data[index], self.target[index]\n",
    "        if self.transform is not None:\n",
    "            data, target = self.transform(data, target)\n",
    "        return data, target\n",
    "\n",
    "    def __len__(self):\n",
    "        return self.data.shape[0]"
   ]
  },
  {
   "cell_type": "code",
   "execution_count": 27,
   "metadata": {},
   "outputs": [
    {
     "name": "stdout",
     "output_type": "stream",
     "text": [
      "(32, 32, 3)\n"
     ]
    }
   ],
   "source": [
    "# what transofrmations do we need to feed the data here to pytorch?\n",
    "\n",
    "# first, let's check the shape of our images:\n",
    "print(image.shape)"
   ]
  },
  {
   "cell_type": "code",
   "execution_count": 28,
   "metadata": {},
   "outputs": [],
   "source": [
    "# as we see, the images are stored as WHC, i.e. the first two axes are the image axes and the last axis\n",
    "# corresponds to the color channel.\n",
    "# pytorch however expects the color channel as first axis, i.e. CWH.\n",
    "# so our first transform needs to switch the chanels\n",
    "# note that all transformations work on the image and target, so here we just leave the target alone\n",
    "def to_channel_first(image, target):\n",
    "    \"\"\" Transform images with color channel last (WHC) to channel first (CWH)\n",
    "    \"\"\"\n",
    "    # put channel first\n",
    "    image = image.transpose((2, 0, 1))\n",
    "    return image, target"
   ]
  },
  {
   "cell_type": "code",
   "execution_count": 29,
   "metadata": {},
   "outputs": [
    {
     "name": "stdout",
     "output_type": "stream",
     "text": [
      "uint8\n",
      "0 245\n"
     ]
    }
   ],
   "source": [
    "# next, let's see what datatype and value range our images have\n",
    "print(image.dtype)\n",
    "print(image.min(), image.max())"
   ]
  },
  {
   "cell_type": "code",
   "execution_count": 30,
   "metadata": {},
   "outputs": [],
   "source": [
    "# as we can see, the images are stored in 8 bit integers with a value range [0, 255]\n",
    "# instead, torch expects images as 32 bit floats and normalized to a 'reasonable' data range.\n",
    "# here, we normalize the image such that all channels are in range 0 to 1\n",
    "def normalize(image, target, channel_wise=True):\n",
    "    eps = 1.e-6\n",
    "    image = image.astype('float32')\n",
    "    chan_min = image.min(axis=(1, 2), keepdims=True)\n",
    "    image -= chan_min\n",
    "    chan_max = image.max(axis=(1, 2), keepdims=True)\n",
    "    image /= (chan_max + eps)\n",
    "    return image, target\n",
    "\n",
    "\n",
    "# finally, we need to transform our input from a numpy array to a torch tensor\n",
    "def to_tensor(image, target):\n",
    "    return torch.from_numpy(image), torch.tensor([target], dtype=torch.int64)\n",
    "    \n",
    "\n",
    "# we also need a way to compose multiple transformations\n",
    "def compose(image, target, transforms):\n",
    "    for trafo in transforms:\n",
    "        image, target = trafo(image, target)\n",
    "    return image, target"
   ]
  },
  {
   "cell_type": "code",
   "execution_count": 31,
   "metadata": {},
   "outputs": [],
   "source": [
    "# create the dataset with transformations\n",
    "from functools import partial  # to bind function arguments\n",
    "\n",
    "trafos = [to_channel_first, normalize, to_tensor]\n",
    "trafo = partial(compose, transforms=trafos)\n",
    "\n",
    "dataset = DatasetWithTransform(images, labels, transform=trafo)"
   ]
  },
  {
   "cell_type": "code",
   "execution_count": 32,
   "metadata": {},
   "outputs": [
    {
     "data": {
      "image/png": "[encoded data removed]",
      "text/plain": [
       "<Figure size 432x288 with 8 Axes>"
      ]
     },
     "metadata": {
      "needs_background": "light"
     },
     "output_type": "display_data"
    }
   ],
   "source": [
    "# function to show an image target pair returned from the dataset\n",
    "def show_image(ax, image, target):\n",
    "    # need to go back to numpy array and WHC axis order\n",
    "    image = image.numpy().transpose((1, 2, 0))\n",
    "    # find the label name\n",
    "    label = categories[target.item()]\n",
    "    ax.imshow(image)\n",
    "    ax.set_title(label)\n",
    "\n",
    "    \n",
    "# sample a few images from the dataset to check their label\n",
    "n_images = len(dataset)\n",
    "n_samples = 8\n",
    "\n",
    "fig, ax = plt.subplots(1, n_samples)\n",
    "for sample in range(n_samples):\n",
    "    # datasets are random access, so we can request\n",
    "    # an image / target at an arbitrary index\n",
    "    sample_id = np.random.randint(0, n_images)\n",
    "    image, target = dataset[sample_id]\n",
    "    \n",
    "    # make sure that the image is in range 0, 1\n",
    "    assert np.isclose(image.min(), 0.)\n",
    "    assert np.isclose(image.max(), 1.)\n",
    "    \n",
    "    # add the image to our plots\n",
    "    show_image(ax[sample], image, target)"
   ]
  },
  {
   "cell_type": "markdown",
   "metadata": {},
   "source": [
    "## Tasks and Questions\n",
    "\n",
    "- Aply more advanced transforms: for example you could blur the images or rotate them on the fly."
   ]
  },
  {
   "cell_type": "markdown",
   "metadata": {},
   "source": [
    "## Torchvision\n",
    "\n",
    "Note: there is torch library for computer vision tasks: [torchvision](https://pytorch.org/docs/stable/torchvision/index.html). It has many datasets, transformations etc. already. For example a [prefab cifar dataset](https://pytorch.org/docs/stable/torchvision/datasets.html#cifar).\n",
    "\n",
    "We do not use torchvision here for two reasons:\n",
    "- to show how this works under the hood, because if your dataset of choice is not in torchvision you need to write a dataset\n",
    "- torchvision uses [PIL](https://pillow.readthedocs.io/en/stable/) to represent images, which is rather outdated\n",
    "\n",
    "Still, torchvision contains helpful functionality and many datasets, so it's a very useful library."
   ]
  }
 ],
 "metadata": {
  "accelerator": "GPU",
  "colab": {
   "include_colab_link": true,
   "name": "Copy of ReadingData.ipynb",
   "provenance": []
  },
  "kernelspec": {
   "display_name": "Python 3",
   "language": "python",
   "name": "python3"
  },
  "language_info": {
   "codemirror_mode": {
    "name": "ipython",
    "version": 3
   },
   "file_extension": ".py",
   "mimetype": "text/x-python",
   "name": "python",
   "nbconvert_exporter": "python",
   "pygments_lexer": "ipython3",
   "version": "3.8.5"
  }
 },
 "nbformat": 4,
 "nbformat_minor": 1
}
