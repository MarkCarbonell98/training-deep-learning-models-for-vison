{
 "cells": [
  {
   "cell_type": "markdown",
   "metadata": {
    "colab_type": "text",
    "id": "view-in-github"
   },
   "source": [
    "<a href=\"https://colab.research.google.com/github/kreshuklab/teaching-dl-course-2019/blob/master/Webinars/exercise1/ReadingData.ipynb\" target=\"_parent\"><img src=\"https://colab.research.google.com/assets/colab-badge.svg\" alt=\"Open In Colab\"/></a>"
   ]
  },
  {
   "cell_type": "markdown",
   "metadata": {
    "colab_type": "text",
    "id": "3BDW5sY-dBnC"
   },
   "source": [
    "# Data preparation for a classification model\n",
    "\n",
    "In this notebook, we will download training data from the \n",
    "\n",
    "TODO:\n",
    "- use cifar or mnist?\n",
    "- set up google colab links for the new notebooks following: https://colab.research.google.com/github/googlecolab/colabtools/blob/master/notebooks/colab-github-demo.ipynb\n",
    "- test that everything works for colab and google drive"
   ]
  },
  {
   "cell_type": "markdown",
   "metadata": {
    "colab_type": "text",
    "id": "M2QTJEh7bgal"
   },
   "source": [
    "## Import necessary libraries"
   ]
  },
  {
   "cell_type": "code",
   "execution_count": 1,
   "metadata": {
    "colab": {},
    "colab_type": "code",
    "id": "LnStabZOSK0O"
   },
   "outputs": [],
   "source": [
    "import numpy as np   # Package for scientific computing\n",
    "import matplotlib.pyplot as plt  # 2D plotting library\n",
    "import os  # Using operating system\n",
    "from imageio import imread  # read images\n",
    "from skimage.transform import resize  # resize images\n",
    "from tqdm import tqdm   # Progress bar library\n",
    "import random  # Generating Random Numbers\n",
    "import pickle # Serializing and de-serializing a Python object structure"
   ]
  },
  {
   "cell_type": "code",
   "execution_count": 2,
   "metadata": {},
   "outputs": [
    {
     "name": "stdout",
     "output_type": "stream",
     "text": [
      "Collecting cifar2png\n",
      "  Using cached cifar2png-0.0.4.tar.gz (5.8 kB)\n",
      "Requirement already satisfied: numpy in /home/pape/Work/software/conda/miniconda3/envs/adl-course/lib/python3.8/site-packages (from cifar2png) (1.19.1)\n",
      "Collecting pathlib\n",
      "  Using cached pathlib-1.0.1.tar.gz (49 kB)\n",
      "Requirement already satisfied: Pillow>=6.2.0 in /home/pape/Work/software/conda/miniconda3/envs/adl-course/lib/python3.8/site-packages (from cifar2png) (7.2.0)\n",
      "Collecting requests>=2.20.0\n",
      "  Using cached requests-2.24.0-py2.py3-none-any.whl (61 kB)\n",
      "Requirement already satisfied: six in /home/pape/Work/software/conda/miniconda3/envs/adl-course/lib/python3.8/site-packages (from cifar2png) (1.15.0)\n",
      "Collecting tqdm\n",
      "  Using cached tqdm-4.48.2-py2.py3-none-any.whl (68 kB)\n",
      "Requirement already satisfied: certifi>=2017.4.17 in /home/pape/Work/software/conda/miniconda3/envs/adl-course/lib/python3.8/site-packages (from requests>=2.20.0->cifar2png) (2020.6.20)\n",
      "Collecting chardet<4,>=3.0.2\n",
      "  Using cached chardet-3.0.4-py2.py3-none-any.whl (133 kB)\n",
      "Collecting urllib3!=1.25.0,!=1.25.1,<1.26,>=1.21.1\n",
      "  Using cached urllib3-1.25.10-py2.py3-none-any.whl (127 kB)\n",
      "Collecting idna<3,>=2.5\n",
      "  Using cached idna-2.10-py2.py3-none-any.whl (58 kB)\n",
      "Building wheels for collected packages: cifar2png, pathlib\n",
      "  Building wheel for cifar2png (setup.py) ... \u001b[?25ldone\n",
      "\u001b[?25h  Created wheel for cifar2png: filename=cifar2png-0.0.4-py3-none-any.whl size=5932 sha256=e87c0d97fb8fddad5f4cf813f8d2a15e57e7366ffa1b8d80569525d466506398\n",
      "  Stored in directory: /home/pape/.cache/pip/wheels/74/98/2e/cc61a90cf96d657a7e7384904658ae7b561514c117af9438cc\n",
      "  Building wheel for pathlib (setup.py) ... \u001b[?25ldone\n",
      "\u001b[?25h  Created wheel for pathlib: filename=pathlib-1.0.1-py3-none-any.whl size=14348 sha256=f760e5383e3ef5fcaae46c2a9744070e3905df45f7f9242274b0d5fdc1e86c41\n",
      "  Stored in directory: /home/pape/.cache/pip/wheels/59/02/2f/ff4a3e16a518feb111ae1405908094483ef56fec0dfa39e571\n",
      "Successfully built cifar2png pathlib\n",
      "Installing collected packages: pathlib, chardet, urllib3, idna, requests, tqdm, cifar2png\n",
      "Successfully installed chardet-3.0.4 cifar2png-0.0.4 idna-2.10 pathlib-1.0.1 requests-2.24.0 tqdm-4.48.2 urllib3-1.25.10\n"
     ]
    }
   ],
   "source": [
    "# install helper function to extract cifar images\n",
    "!pip install cifar2png"
   ]
  },
  {
   "cell_type": "markdown",
   "metadata": {
    "colab_type": "text",
    "id": "KIS7BobWfDEK"
   },
   "source": [
    "## Download the data\n",
    "\n",
    "aa"
   ]
  },
  {
   "cell_type": "code",
   "execution_count": 0,
   "metadata": {
    "colab": {},
    "colab_type": "code",
    "id": "NY_WCus6Vy4l"
   },
   "outputs": [],
   "source": [
    "# RUN THIS IF YOU USE THIS NOTEBOOK IN GOOGLE COLAB\n",
    "\n",
    "# connect to your google drive\n",
    "from google.colab import drive\n",
    "root = '/content/gdrive/'\n",
    "drive.mount(root)\n",
    "\n",
    "# create a permanent directory in your google drive to save the data\n",
    "cifar_dir = os.path.join(root, '/My Drive/drive_ml/2020_ml_school/02_cifar')\n",
    "os.makedirs(cifar_dir, exist_ok=True)"
   ]
  },
  {
   "cell_type": "code",
   "execution_count": 2,
   "metadata": {
    "colab": {},
    "colab_type": "code",
    "id": "xKiPEN9K3L3G"
   },
   "outputs": [],
   "source": [
    "# RUN THIS IF YOU USE THIS NOTEBOOK LOCALLY\n",
    "cifar_dir = './cifar10'\n",
    "os.makedirs(cifar_dir, exist_ok=True)"
   ]
  },
  {
   "cell_type": "code",
   "execution_count": 5,
   "metadata": {},
   "outputs": [
    {
     "data": {
      "text/plain": [
       "('cifar.tar.gz', <http.client.HTTPMessage at 0x7f29b33e8f10>)"
      ]
     },
     "execution_count": 5,
     "metadata": {},
     "output_type": "execute_result"
    }
   ],
   "source": [
    "# download the cifar data\n",
    "# import urllib\n",
    "# cifar_source = \"https://www.cs.toronto.edu/~kriz/cifar-10-python.tar.gz\"\n",
    "# urllib.request.urlretrieve(cifar_source, \"cifar.tar.gz\")"
   ]
  },
  {
   "cell_type": "code",
   "execution_count": 3,
   "metadata": {},
   "outputs": [
    {
     "name": "stdout",
     "output_type": "stream",
     "text": [
      "output dir `cifar10` already exists. Please specify a different output path\r\n"
     ]
    }
   ],
   "source": [
    "!cifar2png cifar10 cifar10"
   ]
  },
  {
   "cell_type": "markdown",
   "metadata": {
    "colab_type": "text",
    "id": "4K-UfXaQbvZX"
   },
   "source": [
    "## Reading the cifar data\n",
    "\n",
    "Data layout: \n",
    "\n",
    "```\n",
    "train/\n",
    "  airplane/\n",
    "    001.png\n",
    "    002.png\n",
    "    ...\n",
    "  automobile/\n",
    "    001.png\n",
    "    002.png\n",
    "    ...\n",
    "```"
   ]
  },
  {
   "cell_type": "code",
   "execution_count": 12,
   "metadata": {
    "colab": {},
    "colab_type": "code",
    "id": "0MkRv0jlSQAv"
   },
   "outputs": [
    {
     "name": "stdout",
     "output_type": "stream",
     "text": [
      "['truck', 'cat', 'airplane', 'ship', 'deer', 'horse', 'bird', 'automobile', 'frog', 'dog']\n"
     ]
    }
   ],
   "source": [
    "# expolore the data\n",
    "# data_dir = cifar_dir_path  \n",
    "data_dir = \"cifar10/train\" # for people working on cifar the data is stored locally\n",
    "\n",
    "categories = os.listdir(data_dir)\n",
    "print(categories)"
   ]
  },
  {
   "cell_type": "code",
   "execution_count": 16,
   "metadata": {},
   "outputs": [
    {
     "name": "stderr",
     "output_type": "stream",
     "text": [
      "100%|██████████| 10/10 [00:12<00:00,  1.23s/it]"
     ]
    },
    {
     "name": "stdout",
     "output_type": "stream",
     "text": [
      "Number of images: 50000\n",
      "Number of labels: 50000\n"
     ]
    },
    {
     "name": "stderr",
     "output_type": "stream",
     "text": [
      "\n"
     ]
    }
   ],
   "source": [
    "images = []\n",
    "labels = []\n",
    "for label_id, category in tqdm(enumerate(categories), total=len(categories)):\n",
    "    category_dir = os.path.join(data_dir, category)\n",
    "    image_names = os.listdir(category_dir)\n",
    "    for im_name in image_names:\n",
    "        im_file = os.path.join(category_dir, im_name)\n",
    "        images.append(imread(im_file))\n",
    "        labels.append(label_id)\n",
    "print(\"Number of images:\", len(images))\n",
    "print(\"Number of labels:\", len(labels))"
   ]
  },
  {
   "cell_type": "markdown",
   "metadata": {
    "colab_type": "text",
    "id": "iIjKMSy4ydIR"
   },
   "source": [
    "## Visualisation"
   ]
  },
  {
   "cell_type": "code",
   "execution_count": 22,
   "metadata": {
    "colab": {},
    "colab_type": "code",
    "id": "qgM21lmdya9D"
   },
   "outputs": [
    {
     "data": {
      "image/png": "[encoded data removed]",
      "text/plain": [
       "<Figure size 432x288 with 10 Axes>"
      ]
     },
     "metadata": {
      "needs_background": "light"
     },
     "output_type": "display_data"
    }
   ],
   "source": [
    "# plot an image for each category\n",
    "fig, ax = plt.subplots(1, 10)\n",
    "for label_id, category in enumerate(categories):\n",
    "    ax[label_id].imshow(images[labels.index(label_id)])\n",
    "    # ax[label_id].set_title(category)\n",
    "plt.show()"
   ]
  },
  {
   "cell_type": "markdown",
   "metadata": {},
   "source": [
    "# Image manipulations, filters"
   ]
  },
  {
   "cell_type": "code",
   "execution_count": null,
   "metadata": {},
   "outputs": [],
   "source": []
  }
 ],
 "metadata": {
  "accelerator": "GPU",
  "colab": {
   "include_colab_link": true,
   "name": "Copy of ReadingData.ipynb",
   "provenance": []
  },
  "kernelspec": {
   "display_name": "Python 3",
   "language": "python",
   "name": "python3"
  },
  "language_info": {
   "codemirror_mode": {
    "name": "ipython",
    "version": 3
   },
   "file_extension": ".py",
   "mimetype": "text/x-python",
   "name": "python",
   "nbconvert_exporter": "python",
   "pygments_lexer": "ipython3",
   "version": "3.8.5"
  }
 },
 "nbformat": 4,
 "nbformat_minor": 1
}
